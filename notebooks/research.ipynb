{
 "cells": [
  {
   "cell_type": "code",
   "execution_count": 1,
   "id": "b46ce413",
   "metadata": {},
   "outputs": [],
   "source": [
    "import mlflow\n",
    "import mlflow.sklearn\n",
    "import numpy as np\n",
    "import pandas as pd\n",
    "from sklearn.model_selection import train_test_split\n",
    "from sklearn.ensemble import RandomForestRegressor, GradientBoostingRegressor\n",
    "from sklearn.metrics import mean_squared_error, mean_absolute_error, r2_score\n",
    "from sklearn.preprocessing import StandardScaler, OneHotEncoder\n",
    "from sklearn.compose import ColumnTransformer\n",
    "from sklearn.pipeline import Pipeline\n",
    "import warnings\n",
    "warnings.filterwarnings('ignore')"
   ]
  },
  {
   "cell_type": "code",
   "execution_count": 2,
   "id": "93797bb0",
   "metadata": {},
   "outputs": [
    {
     "name": "stdout",
     "output_type": "stream",
     "text": [
      "Data 'train.csv' berhasil dimuat.\n"
     ]
    }
   ],
   "source": [
    "df = pd.read_csv('../artifacts/train.csv')\n",
    "print(\"Data 'train.csv' berhasil dimuat.\")"
   ]
  },
  {
   "cell_type": "code",
   "execution_count": null,
   "id": "cf466d65",
   "metadata": {},
   "outputs": [],
   "source": [
    "drop_cols = ['Id', 'PoolQC', 'MiscFeature', 'Alley', 'Fence', 'FireplaceQu']\n",
    "df = df.drop(columns=drop_cols, errors='ignore')"
   ]
  },
  {
   "cell_type": "code",
   "execution_count": 4,
   "id": "951d5127",
   "metadata": {},
   "outputs": [],
   "source": [
    "# Menangani missing values di kolom kategorikal\n",
    "for col in df.select_dtypes(include=['object']).columns:\n",
    "    if df[col].isnull().any():\n",
    "        df[col].fillna('None', inplace=True)"
   ]
  },
  {
   "cell_type": "code",
   "execution_count": 5,
   "id": "1bbfd9d0",
   "metadata": {},
   "outputs": [],
   "source": [
    "# Menangani missing values di kolom numerik\n",
    "for col in df.select_dtypes(include=['number']).columns:\n",
    "    if df[col].isnull().any():\n",
    "        df[col].fillna(df[col].median(), inplace=True)"
   ]
  },
  {
   "cell_type": "code",
   "execution_count": 6,
   "id": "bbf73954",
   "metadata": {},
   "outputs": [],
   "source": [
    "#  Memisahkan Fitur (X) dan Target (y)\n",
    "X = df.drop('SalePrice', axis=1)\n",
    "y = df['SalePrice']\n",
    "X_train, X_test, y_train, y_test = train_test_split(X, y, test_size=0.2, random_state=42)"
   ]
  },
  {
   "cell_type": "code",
   "execution_count": 7,
   "id": "8124d378",
   "metadata": {},
   "outputs": [],
   "source": [
    "# Mengidentifikasi kolom numerik dan kategorikal\n",
    "numerical_features = X.select_dtypes(include=['number']).columns.tolist()\n",
    "categorical_features = X.select_dtypes(include=['object']).columns.tolist()"
   ]
  },
  {
   "cell_type": "code",
   "execution_count": 22,
   "id": "43f63854",
   "metadata": {},
   "outputs": [
    {
     "name": "stdout",
     "output_type": "stream",
     "text": [
      "['MSZoning', 'Street', 'LotShape', 'LandContour', 'Utilities', 'LotConfig', 'LandSlope', 'Neighborhood', 'Condition1', 'Condition2', 'BldgType', 'HouseStyle', 'RoofStyle', 'RoofMatl', 'Exterior1st', 'Exterior2nd', 'MasVnrType', 'ExterQual', 'ExterCond', 'Foundation', 'BsmtQual', 'BsmtCond', 'BsmtExposure', 'BsmtFinType1', 'BsmtFinType2', 'Heating', 'HeatingQC', 'CentralAir', 'Electrical', 'KitchenQual', 'Functional', 'GarageType', 'GarageFinish', 'GarageQual', 'GarageCond', 'PavedDrive', 'SaleType', 'SaleCondition']\n"
     ]
    }
   ],
   "source": [
    "print(categorical_features)\n"
   ]
  },
  {
   "cell_type": "code",
   "execution_count": 8,
   "id": "a204562a",
   "metadata": {},
   "outputs": [],
   "source": [
    "# Menggabungkan transformer menggunakan ColumnTransformer\n",
    "preprocessor = ColumnTransformer(\n",
    "    transformers=[\n",
    "        ('num', StandardScaler(), numerical_features),\n",
    "        ('cat', OneHotEncoder(handle_unknown='ignore'), categorical_features)\n",
    "    ])"
   ]
  },
  {
   "cell_type": "code",
   "execution_count": 9,
   "id": "651a7b5b",
   "metadata": {},
   "outputs": [],
   "source": [
    "X_train_processed = preprocessor.fit_transform(X_train)\n",
    "X_test_processed = preprocessor.transform(X_test)"
   ]
  },
  {
   "cell_type": "code",
   "execution_count": 10,
   "id": "183ef867",
   "metadata": {},
   "outputs": [],
   "source": [
    "# Konfigurasi Model Regresi\n",
    "models= {\n",
    "    'random_forest': {\n",
    "        'model': RandomForestRegressor(),\n",
    "        'params': {\n",
    "            'n_estimators': 150,\n",
    "            'max_depth': 15,\n",
    "            'random_state': 42\n",
    "        }\n",
    "    },\n",
    "    'gradient_boosting': {\n",
    "        'model': GradientBoostingRegressor(),\n",
    "        'params': {\n",
    "            'n_estimators': 150,\n",
    "            'learning_rate': 0.1,\n",
    "            'max_depth': 5,\n",
    "            'random_state': 42\n",
    "        }\n",
    "    }\n",
    "}"
   ]
  },
  {
   "cell_type": "code",
   "execution_count": 11,
   "id": "89ecfadb",
   "metadata": {},
   "outputs": [],
   "source": [
    "def evaluate_model_regression(y_true, y_pred):\n",
    "    \"\"\"\n",
    "    Calculates regression evaluation metrics (RMSE, MAE, R^2).\n",
    "    \"\"\"\n",
    "    rmse = np.sqrt(mean_squared_error(y_true, y_pred))\n",
    "    mae = mean_absolute_error(y_true, y_pred)\n",
    "    r2 = r2_score(y_true, y_pred)\n",
    "    \n",
    "    return {\n",
    "        'rmse': rmse,\n",
    "        'mae': mae,\n",
    "        'r2_score': r2\n",
    "    }"
   ]
  },
  {
   "cell_type": "code",
   "execution_count": 12,
   "id": "12059b3a",
   "metadata": {},
   "outputs": [
    {
     "name": "stderr",
     "output_type": "stream",
     "text": [
      "2025/08/13 00:49:20 INFO mlflow.store.db.utils: Creating initial MLflow database tables...\n",
      "2025/08/13 00:49:20 INFO mlflow.store.db.utils: Updating database tables\n",
      "INFO  [alembic.runtime.migration] Context impl SQLiteImpl.\n",
      "INFO  [alembic.runtime.migration] Will assume non-transactional DDL.\n",
      "INFO  [alembic.runtime.migration] Context impl SQLiteImpl.\n",
      "INFO  [alembic.runtime.migration] Will assume non-transactional DDL.\n",
      "2025/08/13 00:49:38 WARNING mlflow.models.model: `artifact_path` is deprecated. Please use `name` instead.\n",
      "2025/08/13 00:49:45 WARNING mlflow.models.model: Model logged without a signature and input example. Please set `input_example` parameter when logging the model to auto infer the model signature.\n",
      "2025/08/13 00:49:45 INFO mlflow.store.db.utils: Creating initial MLflow database tables...\n",
      "2025/08/13 00:49:45 INFO mlflow.store.db.utils: Updating database tables\n",
      "INFO  [alembic.runtime.migration] Context impl SQLiteImpl.\n",
      "INFO  [alembic.runtime.migration] Will assume non-transactional DDL.\n",
      "Registered model 'House Price Predictionrandom_forest' already exists. Creating a new version of this model...\n",
      "Created version '4' of model 'House Price Predictionrandom_forest'.\n"
     ]
    },
    {
     "name": "stdout",
     "output_type": "stream",
     "text": [
      "\n",
      "Model: random_forest\n",
      "rmse: 28680.9981\n",
      "mae: 17504.3937\n",
      "r2_score: 0.8928\n"
     ]
    },
    {
     "name": "stderr",
     "output_type": "stream",
     "text": [
      "2025/08/13 00:49:49 WARNING mlflow.models.model: `artifact_path` is deprecated. Please use `name` instead.\n",
      "2025/08/13 00:49:55 WARNING mlflow.models.model: Model logged without a signature and input example. Please set `input_example` parameter when logging the model to auto infer the model signature.\n"
     ]
    },
    {
     "name": "stdout",
     "output_type": "stream",
     "text": [
      "\n",
      "Model: gradient_boosting\n",
      "rmse: 25880.5164\n",
      "mae: 15902.6839\n",
      "r2_score: 0.9127\n"
     ]
    },
    {
     "name": "stderr",
     "output_type": "stream",
     "text": [
      "Registered model 'House Price Predictiongradient_boosting' already exists. Creating a new version of this model...\n",
      "Created version '4' of model 'House Price Predictiongradient_boosting'.\n"
     ]
    }
   ],
   "source": [
    "mlflow.set_tracking_uri('sqlite:///mlflow.db')\n",
    "mlflow.set_experiment('House Price Prediction')\n",
    "\n",
    "# Train and evaluate models\n",
    "for model_name, model_info in models.items():\n",
    "    with mlflow.start_run(run_name=model_name):\n",
    "        # Log model parameters\n",
    "        mlflow.log_params(model_info['params'])\n",
    "        \n",
    "        # Train model\n",
    "        model = model_info['model']\n",
    "        model.set_params(**model_info['params'])\n",
    "        model.fit(X_train_processed, y_train)\n",
    "        \n",
    "        # Make predictions\n",
    "        y_pred = model.predict(X_test_processed)\n",
    "        \n",
    "        # Calculate and log metrics\n",
    "        metrics = evaluate_model_regression(y_test, y_pred)\n",
    "        mlflow.log_metrics(metrics)\n",
    "        \n",
    "        # Log model\n",
    "        mlflow.sklearn.log_model(model, \n",
    "                                 model_name,\n",
    "                                 registered_model_name=f\"House Price Prediction{model_name}\")\n",
    "        \n",
    "        print(f\"\\nModel: {model_name}\")\n",
    "        for metric_name, value in metrics.items():\n",
    "            print(f\"{metric_name}: {value:.4f}\")"
   ]
  },
  {
   "cell_type": "code",
   "execution_count": 13,
   "id": "245649da",
   "metadata": {},
   "outputs": [],
   "source": [
    "# Transition the best model to production\n",
    "from mlflow.tracking import MlflowClient\n",
    "\n",
    "def load_production_model(model_name):\n",
    "    model = mlflow.pyfunc.load_model(\n",
    "        model_uri=f\"models:/House Price Prediction_{model_name}/Production\"\n",
    "    )\n",
    "    return model\n",
    "\n",
    "\n",
    "\n",
    "client = MlflowClient()\n",
    "\n",
    "def transition_model_to_production(model_name):\n",
    "    client = MlflowClient()\n",
    "    latest_version = client.get_latest_versions(f\"House Price Prediction{model_name}\", stages=[\"None\"])[0]\n",
    "    client.transition_model_version_stage(\n",
    "        name=f\"House Price Prediction{model_name}\",\n",
    "        version=latest_version.version,\n",
    "        stage=\"Production\"\n",
    "    )"
   ]
  },
  {
   "cell_type": "code",
   "execution_count": 14,
   "id": "96dc2d78",
   "metadata": {},
   "outputs": [],
   "source": [
    "# Example: Transition the best performing model to production\n",
    "# Note: You should choose the best model based on your evaluation metrics\n",
    "transition_model_to_production('gradient_boosting')"
   ]
  },
  {
   "cell_type": "code",
   "execution_count": 15,
   "id": "a6d610c2",
   "metadata": {},
   "outputs": [],
   "source": [
    "def get_all_runs():\n",
    "    experiment = mlflow.get_experiment_by_name('House Price Prediction')\n",
    "    runs = mlflow.search_runs(experiment_ids=[experiment.experiment_id])\n",
    "    return runs"
   ]
  },
  {
   "cell_type": "code",
   "execution_count": 16,
   "id": "1616f114",
   "metadata": {},
   "outputs": [
    {
     "name": "stdout",
     "output_type": "stream",
     "text": [
      "\n",
      "Model Performance Comparison:\n",
      "   tags.mlflow.runName  metrics.rmse   metrics.mae  metrics.r2_score\n",
      "0    gradient_boosting  25880.516413  15902.683917          0.912676\n",
      "1        random_forest  28680.998095  17504.393709          0.892756\n",
      "2    gradient_boosting  25880.516413  15902.683917          0.912676\n",
      "3        random_forest  28680.998095  17504.393709          0.892756\n",
      "4    gradient_boosting  25880.516413  15902.683917          0.912676\n",
      "5        random_forest  28680.998095  17504.393709          0.892756\n",
      "6    gradient_boosting  25880.516413  15902.683917          0.912676\n",
      "7        random_forest  28680.998095  17504.393709          0.892756\n",
      "8        random_forest           NaN           NaN               NaN\n",
      "9        random_forest           NaN           NaN               NaN\n",
      "10       random_forest           NaN           NaN               NaN\n",
      "11       random_forest           NaN           NaN               NaN\n",
      "12       random_forest           NaN           NaN               NaN\n",
      "13   gradient_boosting  25880.516413  15902.683917          0.912676\n",
      "14       random_forest  28680.998095  17504.393709          0.892756\n",
      "15   gradient_boosting  25880.516413  15902.683917          0.912676\n",
      "16       random_forest  28680.998095  17504.393709          0.892756\n",
      "17       random_forest           NaN           NaN               NaN\n"
     ]
    }
   ],
   "source": [
    "runs_df = get_all_runs()\n",
    "metrics_comparison = runs_df[['tags.mlflow.runName', 'metrics.rmse', 'metrics.mae', 'metrics.r2_score']]\n",
    "print(\"\\nModel Performance Comparison:\")\n",
    "print(metrics_comparison)"
   ]
  },
  {
   "cell_type": "code",
   "execution_count": 17,
   "id": "93682e2a",
   "metadata": {},
   "outputs": [
    {
     "name": "stdout",
     "output_type": "stream",
     "text": [
      "\n",
      "Top 10 Most Important Features:\n",
      "        feature  importance\n",
      "0    MSSubClass    0.001535\n",
      "1   LotFrontage    0.011707\n",
      "2       LotArea    0.015965\n",
      "3   OverallQual    0.557619\n",
      "4   OverallCond    0.008011\n",
      "5     YearBuilt    0.014199\n",
      "6  YearRemodAdd    0.006843\n",
      "7    MasVnrArea    0.001013\n",
      "8    BsmtFinSF1    0.033361\n",
      "9    BsmtFinSF2    0.000476\n"
     ]
    }
   ],
   "source": [
    "# Analyze feature importance for the best model (Random Forest)\n",
    "best_model = models['gradient_boosting']['model']\n",
    "trained_gradient_boosting = best_model.fit(X_train_processed, y_train)\n",
    "\n",
    "ohe_feature_names = preprocessor.named_transformers_['cat'].get_feature_names_out(categorical_features)\n",
    "feature_names = numerical_features + list(ohe_feature_names)\n",
    "\n",
    "# Sort features by importance\n",
    "feature_importance = pd.DataFrame({\n",
    "    'feature': feature_names,\n",
    "    'importance': trained_gradient_boosting.feature_importances_\n",
    "})\n",
    "\n",
    "# Display top 10 most important features\n",
    "print(\"\\nTop 10 Most Important Features:\")\n",
    "print(feature_importance.head(10))"
   ]
  }
 ],
 "metadata": {
  "kernelspec": {
   "display_name": "venv",
   "language": "python",
   "name": "python3"
  },
  "language_info": {
   "codemirror_mode": {
    "name": "ipython",
    "version": 3
   },
   "file_extension": ".py",
   "mimetype": "text/x-python",
   "name": "python",
   "nbconvert_exporter": "python",
   "pygments_lexer": "ipython3",
   "version": "3.12.7"
  }
 },
 "nbformat": 4,
 "nbformat_minor": 5
}
